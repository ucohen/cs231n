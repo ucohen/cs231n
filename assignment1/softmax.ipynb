{
 "cells": [
  {
   "cell_type": "markdown",
   "metadata": {},
   "source": [
    "# Softmax exercise\n",
    "\n",
    "*Complete and hand in this completed worksheet (including its outputs and any supporting code outside of the worksheet) with your assignment submission. For more details see the [assignments page](http://vision.stanford.edu/teaching/cs231n/assignments.html) on the course website.*\n",
    "\n",
    "This exercise is analogous to the SVM exercise. You will:\n",
    "\n",
    "- implement a fully-vectorized **loss function** for the Softmax classifier\n",
    "- implement the fully-vectorized expression for its **analytic gradient**\n",
    "- **check your implementation** with numerical gradient\n",
    "- use a validation set to **tune the learning rate and regularization** strength\n",
    "- **optimize** the loss function with **SGD**\n",
    "- **visualize** the final learned weights\n"
   ]
  },
  {
   "cell_type": "code",
   "execution_count": 1,
   "metadata": {
    "collapsed": false
   },
   "outputs": [],
   "source": [
    "import random\n",
    "import numpy as np\n",
    "from cs231n.data_utils import load_CIFAR10\n",
    "import matplotlib.pyplot as plt\n",
    "\n",
    "from __future__ import print_function\n",
    "\n",
    "%matplotlib inline\n",
    "plt.rcParams['figure.figsize'] = (10.0, 8.0) # set default size of plots\n",
    "plt.rcParams['image.interpolation'] = 'nearest'\n",
    "plt.rcParams['image.cmap'] = 'gray'\n",
    "\n",
    "# for auto-reloading extenrnal modules\n",
    "# see http://stackoverflow.com/questions/1907993/autoreload-of-modules-in-ipython\n",
    "%load_ext autoreload\n",
    "%autoreload 2"
   ]
  },
  {
   "cell_type": "code",
   "execution_count": 2,
   "metadata": {
    "collapsed": false
   },
   "outputs": [
    {
     "name": "stdout",
     "output_type": "stream",
     "text": [
      "Train data shape:  (49000, 3073)\n",
      "Train labels shape:  (49000,)\n",
      "Validation data shape:  (1000, 3073)\n",
      "Validation labels shape:  (1000,)\n",
      "Test data shape:  (1000, 3073)\n",
      "Test labels shape:  (1000,)\n",
      "dev data shape:  (500, 3073)\n",
      "dev labels shape:  (500,)\n"
     ]
    }
   ],
   "source": [
    "def get_CIFAR10_data(num_training=49000, num_validation=1000, num_test=1000, num_dev=500):\n",
    "    \"\"\"\n",
    "    Load the CIFAR-10 dataset from disk and perform preprocessing to prepare\n",
    "    it for the linear classifier. These are the same steps as we used for the\n",
    "    SVM, but condensed to a single function.  \n",
    "    \"\"\"\n",
    "    # Load the raw CIFAR-10 data\n",
    "    cifar10_dir = 'cs231n/datasets/cifar-10-batches-py'\n",
    "    X_train, y_train, X_test, y_test = load_CIFAR10(cifar10_dir)\n",
    "    \n",
    "    # subsample the data\n",
    "    mask = list(range(num_training, num_training + num_validation))\n",
    "    X_val = X_train[mask]\n",
    "    y_val = y_train[mask]\n",
    "    mask = list(range(num_training))\n",
    "    X_train = X_train[mask]\n",
    "    y_train = y_train[mask]\n",
    "    mask = list(range(num_test))\n",
    "    X_test = X_test[mask]\n",
    "    y_test = y_test[mask]\n",
    "    mask = np.random.choice(num_training, num_dev, replace=False)\n",
    "    X_dev = X_train[mask]\n",
    "    y_dev = y_train[mask]\n",
    "    \n",
    "    # Preprocessing: reshape the image data into rows\n",
    "    X_train = np.reshape(X_train, (X_train.shape[0], -1))\n",
    "    X_val = np.reshape(X_val, (X_val.shape[0], -1))\n",
    "    X_test = np.reshape(X_test, (X_test.shape[0], -1))\n",
    "    X_dev = np.reshape(X_dev, (X_dev.shape[0], -1))\n",
    "    \n",
    "    # Normalize the data: subtract the mean image\n",
    "    mean_image = np.mean(X_train, axis = 0)\n",
    "    X_train -= mean_image\n",
    "    X_val -= mean_image\n",
    "    X_test -= mean_image\n",
    "    X_dev -= mean_image\n",
    "    \n",
    "    # add bias dimension and transform into columns\n",
    "    X_train = np.hstack([X_train, np.ones((X_train.shape[0], 1))])\n",
    "    X_val = np.hstack([X_val, np.ones((X_val.shape[0], 1))])\n",
    "    X_test = np.hstack([X_test, np.ones((X_test.shape[0], 1))])\n",
    "    X_dev = np.hstack([X_dev, np.ones((X_dev.shape[0], 1))])\n",
    "    \n",
    "    return X_train, y_train, X_val, y_val, X_test, y_test, X_dev, y_dev\n",
    "\n",
    "\n",
    "# Invoke the above function to get our data.\n",
    "X_train, y_train, X_val, y_val, X_test, y_test, X_dev, y_dev = get_CIFAR10_data()\n",
    "print('Train data shape: ', X_train.shape)\n",
    "print('Train labels shape: ', y_train.shape)\n",
    "print('Validation data shape: ', X_val.shape)\n",
    "print('Validation labels shape: ', y_val.shape)\n",
    "print('Test data shape: ', X_test.shape)\n",
    "print('Test labels shape: ', y_test.shape)\n",
    "print('dev data shape: ', X_dev.shape)\n",
    "print('dev labels shape: ', y_dev.shape)"
   ]
  },
  {
   "cell_type": "markdown",
   "metadata": {},
   "source": [
    "## Softmax Classifier\n",
    "\n",
    "Your code for this section will all be written inside **cs231n/classifiers/softmax.py**. \n"
   ]
  },
  {
   "cell_type": "code",
   "execution_count": 7,
   "metadata": {
    "collapsed": false
   },
   "outputs": [
    {
     "name": "stdout",
     "output_type": "stream",
     "text": [
      "0.000447664857885\n",
      "(3073,)\n",
      "(500, 10)\n",
      "(500,)\n"
     ]
    },
    {
     "data": {
      "text/plain": [
       "array([8, 7, 2, 8, 7, 4, 8, 6, 6, 3, 7, 3, 2, 0, 7, 6, 9, 9, 1, 7, 9, 5, 1,\n",
       "       4, 8, 0, 2, 9, 1, 3, 4, 2, 8, 4, 1, 2, 1, 9, 2, 2, 0, 6, 6, 0, 0, 0,\n",
       "       2, 3, 0, 4, 3, 0, 0, 8, 5, 9, 0, 9, 2, 8, 8, 6, 2, 6, 8, 9, 9, 7, 3,\n",
       "       7, 3, 1, 8, 1, 7, 0, 2, 4, 2, 4, 1, 0, 3, 9, 1, 8, 6, 8, 0, 9, 7, 9,\n",
       "       7, 6, 4, 5, 0, 8, 8, 1, 0, 1, 8, 7, 0, 9, 1, 8, 1, 4, 3, 7, 9, 1, 0,\n",
       "       6, 0, 2, 0, 4, 9, 4, 1, 0, 2, 6, 3, 9, 3, 0, 8, 1, 9, 7, 8, 0, 4, 1,\n",
       "       2, 7, 5, 5, 1, 2, 9, 6, 1, 0, 3, 7, 8, 7, 8, 4, 3, 4, 6, 1, 6, 2, 5,\n",
       "       9, 0, 5, 7, 2, 7, 3, 9, 2, 2, 4, 7, 4, 9, 1, 3, 4, 0, 2, 4, 9, 1, 3,\n",
       "       8, 8, 9, 9, 2, 0, 9, 5, 6, 5, 9, 4, 9, 0, 4, 3, 1, 0, 0, 8, 5, 9, 2,\n",
       "       6, 6, 6, 4, 4, 9, 8, 9, 9, 2, 7, 9, 5, 1, 2, 4, 9, 5, 5, 8, 4, 4, 7,\n",
       "       5, 5, 3, 4, 6, 9, 7, 1, 6, 2, 5, 7, 2, 5, 3, 4, 0, 2, 7, 3, 1, 4, 8,\n",
       "       4, 5, 5, 0, 5, 6, 3, 6, 3, 7, 0, 7, 5, 9, 9, 0, 3, 3, 0, 9, 8, 6, 1,\n",
       "       4, 1, 8, 1, 4, 3, 2, 0, 3, 9, 4, 5, 1, 0, 2, 2, 8, 2, 7, 1, 4, 3, 0,\n",
       "       4, 9, 5, 0, 5, 4, 2, 8, 8, 4, 3, 0, 1, 0, 9, 7, 9, 3, 6, 6, 5, 1, 3,\n",
       "       2, 9, 0, 2, 8, 4, 4, 4, 3, 8, 9, 5, 8, 7, 4, 5, 1, 4, 2, 5, 2, 8, 7,\n",
       "       0, 3, 4, 6, 0, 3, 4, 7, 0, 3, 4, 2, 8, 0, 3, 4, 6, 6, 7, 3, 3, 8, 6,\n",
       "       7, 0, 8, 6, 8, 0, 6, 0, 6, 8, 0, 2, 1, 7, 1, 6, 7, 0, 3, 1, 5, 7, 6,\n",
       "       4, 2, 4, 3, 3, 4, 2, 0, 9, 1, 5, 0, 2, 3, 2, 3, 0, 7, 0, 9, 8, 4, 5,\n",
       "       4, 9, 0, 3, 7, 7, 7, 6, 8, 9, 9, 5, 8, 6, 3, 7, 8, 7, 7, 2, 4, 4, 9,\n",
       "       0, 0, 3, 9, 5, 9, 2, 4, 3, 9, 5, 9, 2, 1, 5, 5, 8, 8, 8, 5, 3, 1, 2,\n",
       "       8, 4, 3, 4, 6, 3, 8, 9, 6, 5, 4, 7, 1, 1, 7, 1, 9, 1, 4, 5, 7, 2, 0,\n",
       "       4, 3, 4, 8, 0, 1, 3, 6, 4, 0, 1, 3, 3, 7, 1, 5, 3])"
      ]
     },
     "execution_count": 7,
     "metadata": {},
     "output_type": "execute_result"
    }
   ],
   "source": [
    "W = np.random.randn(3073, 10) * 0.0001\n",
    "print(W.max())\n",
    "print((W.sum(axis=1)).shape)\n",
    "np.log(0.1)\n",
    "print(W[y_dev].shape)\n",
    "print(y_dev.shape)\n",
    "y_dev"
   ]
  },
  {
   "cell_type": "code",
   "execution_count": 18,
   "metadata": {
    "collapsed": false
   },
   "outputs": [
    {
     "name": "stdout",
     "output_type": "stream",
     "text": [
      "()\n",
      "loss: 2.345968\n",
      "sanity check: 2.302585\n"
     ]
    }
   ],
   "source": [
    "# First implement the naive softmax loss function with nested loops.\n",
    "# Open the file cs231n/classifiers/softmax.py and implement the\n",
    "# softmax_loss_naive function.\n",
    "\n",
    "from cs231n.classifiers.softmax import softmax_loss_naive\n",
    "import time\n",
    "\n",
    "# Generate a random softmax weight matrix and use it to compute the loss.\n",
    "W = np.random.randn(3073, 10) * 0.0001\n",
    "loss, grad = softmax_loss_naive(W, X_dev, y_dev, 0.0)\n",
    "print(loss.shape)\n",
    "# As a rough sanity check, our loss should be something close to -log(0.1).\n",
    "print('loss: %f' % loss)\n",
    "print('sanity check: %f' % (-np.log(0.1)))"
   ]
  },
  {
   "cell_type": "markdown",
   "metadata": {},
   "source": [
    "## Inline Question 1:\n",
    "Why do we expect our loss to be close to -log(0.1)? Explain briefly.**\n",
    "\n",
    "**Your answer:** *Fill this in*\n"
   ]
  },
  {
   "cell_type": "code",
   "execution_count": 20,
   "metadata": {
    "collapsed": false
   },
   "outputs": [
    {
     "name": "stdout",
     "output_type": "stream",
     "text": [
      "2.34596812858\n",
      "numerical: 2.210733 analytic: 2.210733, relative error: 1.212372e-08\n",
      "numerical: 2.266338 analytic: 2.266338, relative error: 3.471125e-08\n",
      "numerical: 1.163486 analytic: 1.163486, relative error: 3.658635e-08\n",
      "numerical: -4.149902 analytic: -4.149902, relative error: 1.707006e-08\n",
      "numerical: -1.591931 analytic: -1.591931, relative error: 4.786740e-09\n",
      "numerical: 0.337409 analytic: 0.337409, relative error: 2.602508e-07\n",
      "numerical: 1.439323 analytic: 1.439323, relative error: 2.583665e-08\n",
      "numerical: 2.974287 analytic: 2.974287, relative error: 2.480113e-08\n",
      "numerical: -1.113413 analytic: -1.113413, relative error: 3.533799e-08\n",
      "numerical: 3.017213 analytic: 3.017213, relative error: 2.785375e-08\n",
      "None\n",
      "numerical: 0.683932 analytic: 0.683932, relative error: 1.508975e-08\n",
      "numerical: 0.615843 analytic: 0.615843, relative error: 3.668982e-08\n",
      "numerical: 0.222133 analytic: 0.222133, relative error: 3.076679e-08\n",
      "numerical: 1.252157 analytic: 1.252157, relative error: 5.405430e-10\n",
      "numerical: -0.535788 analytic: -0.535788, relative error: 7.200365e-08\n",
      "numerical: 0.969677 analytic: 0.969677, relative error: 1.847117e-08\n",
      "numerical: 0.583301 analytic: 0.583301, relative error: 5.835966e-08\n",
      "numerical: -0.781301 analytic: -0.781301, relative error: 2.099190e-08\n",
      "numerical: 1.333538 analytic: 1.333538, relative error: 1.210730e-08\n",
      "numerical: -2.223686 analytic: -2.223686, relative error: 3.031237e-08\n"
     ]
    }
   ],
   "source": [
    "# Complete the implementation of softmax_loss_naive and implement a (naive)\n",
    "# version of the gradient that uses nested loops.\n",
    "loss, grad = softmax_loss_naive(W, X_dev, y_dev, 0.0)\n",
    "print(loss)\n",
    "\n",
    "# As we did for the SVM, use numeric gradient checking as a debugging tool.\n",
    "# The numeric gradient should be close to the analytic gradient.\n",
    "from cs231n.gradient_check import grad_check_sparse\n",
    "f = lambda w: softmax_loss_naive(w, X_dev, y_dev, 0.0)[0]\n",
    "grad_numerical = grad_check_sparse(f, W, grad, 10)\n",
    "print(grad_numerical)\n",
    "\n",
    "# similar to SVM case, do another gradient check with regularization\n",
    "loss, grad = softmax_loss_naive(W, X_dev, y_dev, 5e1)\n",
    "f = lambda w: softmax_loss_naive(w, X_dev, y_dev, 5e1)[0]\n",
    "grad_numerical = grad_check_sparse(f, W, grad, 10)"
   ]
  },
  {
   "cell_type": "code",
   "execution_count": 19,
   "metadata": {
    "collapsed": false
   },
   "outputs": [
    {
     "name": "stdout",
     "output_type": "stream",
     "text": [
      "naive loss: 2.345968e+00 computed in 0.115145s\n",
      "vectorized loss: 0.000000e+00 computed in 0.000000s\n",
      "Loss difference: 2.345968\n",
      "Gradient difference: 4.814755\n"
     ]
    }
   ],
   "source": [
    "# Now that we have a naive implementation of the softmax loss function and its gradient,\n",
    "# implement a vectorized version in softmax_loss_vectorized.\n",
    "# The two versions should compute the same results, but the vectorized version should be\n",
    "# much faster.\n",
    "tic = time.time()\n",
    "loss_naive, grad_naive = softmax_loss_naive(W, X_dev, y_dev, 0.000005)\n",
    "toc = time.time()\n",
    "print('naive loss: %e computed in %fs' % (loss_naive, toc - tic))\n",
    "\n",
    "from cs231n.classifiers.softmax import softmax_loss_vectorized\n",
    "tic = time.time()\n",
    "loss_vectorized, grad_vectorized = softmax_loss_vectorized(W, X_dev, y_dev, 0.000005)\n",
    "toc = time.time()\n",
    "print('vectorized loss: %e computed in %fs' % (loss_vectorized, toc - tic))\n",
    "\n",
    "# As we did for the SVM, we use the Frobenius norm to compare the two versions\n",
    "# of the gradient.\n",
    "grad_difference = np.linalg.norm(grad_naive - grad_vectorized, ord='fro')\n",
    "print('Loss difference: %f' % np.abs(loss_naive - loss_vectorized))\n",
    "print('Gradient difference: %f' % grad_difference)"
   ]
  },
  {
   "cell_type": "code",
   "execution_count": null,
   "metadata": {
    "collapsed": false
   },
   "outputs": [],
   "source": [
    "# Use the validation set to tune hyperparameters (regularization strength and\n",
    "# learning rate). You should experiment with different ranges for the learning\n",
    "# rates and regularization strengths; if you are careful you should be able to\n",
    "# get a classification accuracy of over 0.35 on the validation set.\n",
    "from cs231n.classifiers import Softmax\n",
    "results = {}\n",
    "best_val = -1\n",
    "best_softmax = None\n",
    "learning_rates = [1e-7, 5e-7]\n",
    "regularization_strengths = [2.5e4, 5e4]\n",
    "\n",
    "################################################################################\n",
    "# TODO:                                                                        #\n",
    "# Use the validation set to set the learning rate and regularization strength. #\n",
    "# This should be identical to the validation that you did for the SVM; save    #\n",
    "# the best trained softmax classifer in best_softmax.                          #\n",
    "################################################################################\n",
    "pass\n",
    "################################################################################\n",
    "#                              END OF YOUR CODE                                #\n",
    "################################################################################\n",
    "    \n",
    "# Print out results.\n",
    "for lr, reg in sorted(results):\n",
    "    train_accuracy, val_accuracy = results[(lr, reg)]\n",
    "    print('lr %e reg %e train accuracy: %f val accuracy: %f' % (\n",
    "                lr, reg, train_accuracy, val_accuracy))\n",
    "    \n",
    "print('best validation accuracy achieved during cross-validation: %f' % best_val)"
   ]
  },
  {
   "cell_type": "code",
   "execution_count": null,
   "metadata": {
    "collapsed": false
   },
   "outputs": [],
   "source": [
    "# evaluate on test set\n",
    "# Evaluate the best softmax on test set\n",
    "y_test_pred = best_softmax.predict(X_test)\n",
    "test_accuracy = np.mean(y_test == y_test_pred)\n",
    "print('softmax on raw pixels final test set accuracy: %f' % (test_accuracy, ))"
   ]
  },
  {
   "cell_type": "code",
   "execution_count": null,
   "metadata": {
    "collapsed": false
   },
   "outputs": [],
   "source": [
    "# Visualize the learned weights for each class\n",
    "w = best_softmax.W[:-1,:] # strip out the bias\n",
    "w = w.reshape(32, 32, 3, 10)\n",
    "\n",
    "w_min, w_max = np.min(w), np.max(w)\n",
    "\n",
    "classes = ['plane', 'car', 'bird', 'cat', 'deer', 'dog', 'frog', 'horse', 'ship', 'truck']\n",
    "for i in range(10):\n",
    "    plt.subplot(2, 5, i + 1)\n",
    "    \n",
    "    # Rescale the weights to be between 0 and 255\n",
    "    wimg = 255.0 * (w[:, :, :, i].squeeze() - w_min) / (w_max - w_min)\n",
    "    plt.imshow(wimg.astype('uint8'))\n",
    "    plt.axis('off')\n",
    "    plt.title(classes[i])"
   ]
  }
 ],
 "metadata": {
  "kernelspec": {
   "display_name": "Python 3",
   "language": "python",
   "name": "python3"
  },
  "language_info": {
   "codemirror_mode": {
    "name": "ipython",
    "version": 3
   },
   "file_extension": ".py",
   "mimetype": "text/x-python",
   "name": "python",
   "nbconvert_exporter": "python",
   "pygments_lexer": "ipython3",
   "version": "3.6.0"
  }
 },
 "nbformat": 4,
 "nbformat_minor": 0
}
